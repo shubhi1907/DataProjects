{
 "cells": [
  {
   "cell_type": "code",
   "execution_count": 1,
   "metadata": {},
   "outputs": [],
   "source": [
    "%run \"/Users/shubhi.singal@insight.com/Exploration\""
   ]
  },
  {
   "cell_type": "code",
   "execution_count": 2,
   "metadata": {},
   "outputs": [
    {
     "data": {
      "text/html": [
       "<div>\n",
       "<style scoped>\n",
       "    .dataframe tbody tr th:only-of-type {\n",
       "        vertical-align: middle;\n",
       "    }\n",
       "\n",
       "    .dataframe tbody tr th {\n",
       "        vertical-align: top;\n",
       "    }\n",
       "\n",
       "    .dataframe thead th {\n",
       "        text-align: right;\n",
       "    }\n",
       "</style>\n",
       "<table border=\"1\" class=\"dataframe\">\n",
       "  <thead>\n",
       "    <tr style=\"text-align: right;\">\n",
       "      <th></th>\n",
       "      <th>PATIENT_ID</th>\n",
       "      <th>FACILITY_ID</th>\n",
       "      <th>PATIENT_ENCOUNTER_ID</th>\n",
       "      <th>SOURCE</th>\n",
       "      <th>PROBLEM_LIST_ID</th>\n",
       "      <th>LINE</th>\n",
       "      <th>RECORDED_DTM</th>\n",
       "      <th>PROBLEM_TYPE</th>\n",
       "      <th>PROBLEM_STATUS</th>\n",
       "      <th>CATEGORICAL_PROBLEM_ID</th>\n",
       "      <th>SOURCE_CODE</th>\n",
       "      <th>CODE</th>\n",
       "      <th>AGG_CODE</th>\n",
       "      <th>CATEGORICAL_PROBLEM_NAME</th>\n",
       "      <th>FREE_TEXT_PROBLEM_NAME</th>\n",
       "      <th>COMMENT</th>\n",
       "      <th>PRINCIPAL_PROBLEM</th>\n",
       "      <th>HX_PROBLEM_POA</th>\n",
       "      <th>SUPERCATEGORY</th>\n",
       "      <th>RECORDED_DTM_Date</th>\n",
       "      <th>RECORDED_DTM_Time</th>\n",
       "    </tr>\n",
       "  </thead>\n",
       "  <tbody>\n",
       "    <tr>\n",
       "      <th>0</th>\n",
       "      <td>30080</td>\n",
       "      <td>NaN</td>\n",
       "      <td>187059</td>\n",
       "      <td>MMIC</td>\n",
       "      <td>1</td>\n",
       "      <td>1.0</td>\n",
       "      <td>2165-06-17T17:30:00.000Z</td>\n",
       "      <td>NaN</td>\n",
       "      <td>NaN</td>\n",
       "      <td>344914</td>\n",
       "      <td>543</td>\n",
       "      <td>B004</td>\n",
       "      <td>B004</td>\n",
       "      <td>Herpesviral encephalitis</td>\n",
       "      <td>NaN</td>\n",
       "      <td>FEVER;MENTAL STATUS CHANGES</td>\n",
       "      <td>1</td>\n",
       "      <td>NaN</td>\n",
       "      <td>Infectious/Parasitic Diseases</td>\n",
       "      <td>2165-06-17</td>\n",
       "      <td>17:30:00.000Z</td>\n",
       "    </tr>\n",
       "    <tr>\n",
       "      <th>1</th>\n",
       "      <td>27051</td>\n",
       "      <td>NaN</td>\n",
       "      <td>113012</td>\n",
       "      <td>MMIC</td>\n",
       "      <td>1</td>\n",
       "      <td>3.0</td>\n",
       "      <td>2194-02-02T15:30:00.000Z</td>\n",
       "      <td>NaN</td>\n",
       "      <td>NaN</td>\n",
       "      <td>303252</td>\n",
       "      <td>20158</td>\n",
       "      <td>C8118</td>\n",
       "      <td>C8118</td>\n",
       "      <td>Nodular sclerosis classical Hodgkin lymphoma, ...</td>\n",
       "      <td>NaN</td>\n",
       "      <td>HYPOTENSION</td>\n",
       "      <td>0</td>\n",
       "      <td>NaN</td>\n",
       "      <td>Malignant Neoplasms</td>\n",
       "      <td>2194-02-02</td>\n",
       "      <td>15:30:00.000Z</td>\n",
       "    </tr>\n",
       "    <tr>\n",
       "      <th>2</th>\n",
       "      <td>20947</td>\n",
       "      <td>NaN</td>\n",
       "      <td>110386</td>\n",
       "      <td>MMIC</td>\n",
       "      <td>1</td>\n",
       "      <td>7.0</td>\n",
       "      <td>2169-09-06T16:05:00.000Z</td>\n",
       "      <td>NaN</td>\n",
       "      <td>NaN</td>\n",
       "      <td>233817</td>\n",
       "      <td>4821</td>\n",
       "      <td>J151</td>\n",
       "      <td>J151</td>\n",
       "      <td>Pneumonia due to Pseudomonas</td>\n",
       "      <td>NaN</td>\n",
       "      <td>LEFT HIP FRACTURE</td>\n",
       "      <td>0</td>\n",
       "      <td>NaN</td>\n",
       "      <td>Respiritory</td>\n",
       "      <td>2169-09-06</td>\n",
       "      <td>16:05:00.000Z</td>\n",
       "    </tr>\n",
       "    <tr>\n",
       "      <th>3</th>\n",
       "      <td>27043</td>\n",
       "      <td>NaN</td>\n",
       "      <td>108765</td>\n",
       "      <td>MMIC</td>\n",
       "      <td>1</td>\n",
       "      <td>2.0</td>\n",
       "      <td>2140-12-23T18:28:00.000Z</td>\n",
       "      <td>NaN</td>\n",
       "      <td>NaN</td>\n",
       "      <td>302995</td>\n",
       "      <td>4821</td>\n",
       "      <td>J151</td>\n",
       "      <td>J151</td>\n",
       "      <td>Pneumonia due to Pseudomonas</td>\n",
       "      <td>NaN</td>\n",
       "      <td>PNEUMONIA</td>\n",
       "      <td>0</td>\n",
       "      <td>NaN</td>\n",
       "      <td>Respiritory</td>\n",
       "      <td>2140-12-23</td>\n",
       "      <td>18:28:00.000Z</td>\n",
       "    </tr>\n",
       "    <tr>\n",
       "      <th>4</th>\n",
       "      <td>29338</td>\n",
       "      <td>NaN</td>\n",
       "      <td>198762</td>\n",
       "      <td>MMIC</td>\n",
       "      <td>1</td>\n",
       "      <td>2.0</td>\n",
       "      <td>2162-10-26T19:42:00.000Z</td>\n",
       "      <td>NaN</td>\n",
       "      <td>NaN</td>\n",
       "      <td>334844</td>\n",
       "      <td>4821</td>\n",
       "      <td>J151</td>\n",
       "      <td>J151</td>\n",
       "      <td>Pneumonia due to Pseudomonas</td>\n",
       "      <td>NaN</td>\n",
       "      <td>ABDOMINAL PAIN;ANEMIA</td>\n",
       "      <td>0</td>\n",
       "      <td>NaN</td>\n",
       "      <td>Respiritory</td>\n",
       "      <td>2162-10-26</td>\n",
       "      <td>19:42:00.000Z</td>\n",
       "    </tr>\n",
       "  </tbody>\n",
       "</table>\n",
       "</div>"
      ]
     },
     "metadata": {},
     "output_type": "display_data"
    }
   ],
   "source": [
    "#get diagnoses in the first half of an encounter\n",
    "diag_df = pd.DataFrame(diagnoses)\n",
    "#diag_df = pd.read_csv('diagnoses-supercat.csv')\n",
    "\n",
    "#diag_df.head()"
   ]
  },
  {
   "cell_type": "code",
   "execution_count": 3,
   "metadata": {},
   "outputs": [
    {
     "data": {
      "text/html": [
       "<div>\n",
       "<style scoped>\n",
       "    .dataframe tbody tr th:only-of-type {\n",
       "        vertical-align: middle;\n",
       "    }\n",
       "\n",
       "    .dataframe tbody tr th {\n",
       "        vertical-align: top;\n",
       "    }\n",
       "\n",
       "    .dataframe thead th {\n",
       "        text-align: right;\n",
       "    }\n",
       "</style>\n",
       "<table border=\"1\" class=\"dataframe\">\n",
       "  <thead>\n",
       "    <tr style=\"text-align: right;\">\n",
       "      <th></th>\n",
       "      <th>PATIENT_ID</th>\n",
       "      <th>FACILITY_ID</th>\n",
       "      <th>PATIENT_ENCOUNTER_ID</th>\n",
       "      <th>SOURCE</th>\n",
       "      <th>PROBLEM_LIST_ID</th>\n",
       "      <th>LINE</th>\n",
       "      <th>RECORDED_DTM</th>\n",
       "      <th>PROBLEM_TYPE</th>\n",
       "      <th>PROBLEM_STATUS</th>\n",
       "      <th>CATEGORICAL_PROBLEM_ID</th>\n",
       "      <th>SOURCE_CODE</th>\n",
       "      <th>CODE</th>\n",
       "      <th>AGG_CODE</th>\n",
       "      <th>CATEGORICAL_PROBLEM_NAME</th>\n",
       "      <th>FREE_TEXT_PROBLEM_NAME</th>\n",
       "      <th>COMMENT</th>\n",
       "      <th>PRINCIPAL_PROBLEM</th>\n",
       "      <th>HX_PROBLEM_POA</th>\n",
       "      <th>SUPERCATEGORY</th>\n",
       "      <th>RECORDED_DTM_Date</th>\n",
       "      <th>RECORDED_DTM_Time</th>\n",
       "    </tr>\n",
       "  </thead>\n",
       "  <tbody>\n",
       "    <tr>\n",
       "      <th>137767</th>\n",
       "      <td>58526</td>\n",
       "      <td>NaN</td>\n",
       "      <td>100001</td>\n",
       "      <td>MMIC</td>\n",
       "      <td>1</td>\n",
       "      <td>5.0</td>\n",
       "      <td>2117-09-17T16:45:00.000Z</td>\n",
       "      <td>NaN</td>\n",
       "      <td>NaN</td>\n",
       "      <td>464708</td>\n",
       "      <td>V5867</td>\n",
       "      <td>Z794</td>\n",
       "      <td>Z794</td>\n",
       "      <td>Long term (current) use of insulin</td>\n",
       "      <td>NaN</td>\n",
       "      <td>DIABETIC KETOACIDOSIS</td>\n",
       "      <td>0</td>\n",
       "      <td>NaN</td>\n",
       "      <td>Genitourinary</td>\n",
       "      <td>2117-09-17</td>\n",
       "      <td>16:45:00.000Z</td>\n",
       "    </tr>\n",
       "    <tr>\n",
       "      <th>394188</th>\n",
       "      <td>58526</td>\n",
       "      <td>NaN</td>\n",
       "      <td>100001</td>\n",
       "      <td>MMIC</td>\n",
       "      <td>1</td>\n",
       "      <td>2.0</td>\n",
       "      <td>2117-09-17T16:45:00.000Z</td>\n",
       "      <td>NaN</td>\n",
       "      <td>NaN</td>\n",
       "      <td>464705</td>\n",
       "      <td>3371</td>\n",
       "      <td>G990</td>\n",
       "      <td>G990</td>\n",
       "      <td>Autonomic neuropathy in diseases classified el...</td>\n",
       "      <td>NaN</td>\n",
       "      <td>DIABETIC KETOACIDOSIS</td>\n",
       "      <td>0</td>\n",
       "      <td>NaN</td>\n",
       "      <td>Blood/Immune Diseases</td>\n",
       "      <td>2117-09-17</td>\n",
       "      <td>16:45:00.000Z</td>\n",
       "    </tr>\n",
       "    <tr>\n",
       "      <th>610499</th>\n",
       "      <td>58526</td>\n",
       "      <td>NaN</td>\n",
       "      <td>100001</td>\n",
       "      <td>MMIC</td>\n",
       "      <td>1</td>\n",
       "      <td>16.0</td>\n",
       "      <td>2117-09-17T16:45:00.000Z</td>\n",
       "      <td>NaN</td>\n",
       "      <td>NaN</td>\n",
       "      <td>464719</td>\n",
       "      <td>V1351</td>\n",
       "      <td>Z87311</td>\n",
       "      <td>Z87311</td>\n",
       "      <td>Personal history of (healed) other pathologica...</td>\n",
       "      <td>NaN</td>\n",
       "      <td>DIABETIC KETOACIDOSIS</td>\n",
       "      <td>0</td>\n",
       "      <td>NaN</td>\n",
       "      <td>Newborn</td>\n",
       "      <td>2117-09-17</td>\n",
       "      <td>16:45:00.000Z</td>\n",
       "    </tr>\n",
       "    <tr>\n",
       "      <th>48199</th>\n",
       "      <td>58526</td>\n",
       "      <td>NaN</td>\n",
       "      <td>100001</td>\n",
       "      <td>MMIC</td>\n",
       "      <td>1</td>\n",
       "      <td>15.0</td>\n",
       "      <td>2117-09-17T16:45:00.000Z</td>\n",
       "      <td>NaN</td>\n",
       "      <td>NaN</td>\n",
       "      <td>464718</td>\n",
       "      <td>7078</td>\n",
       "      <td>L98419</td>\n",
       "      <td>L98429,L98419</td>\n",
       "      <td>Non-pressure chronic ulcer of buttock with uns...</td>\n",
       "      <td>NaN</td>\n",
       "      <td>DIABETIC KETOACIDOSIS</td>\n",
       "      <td>0</td>\n",
       "      <td>NaN</td>\n",
       "      <td>Blood/Immune Diseases</td>\n",
       "      <td>2117-09-17</td>\n",
       "      <td>16:45:00.000Z</td>\n",
       "    </tr>\n",
       "    <tr>\n",
       "      <th>90465</th>\n",
       "      <td>58526</td>\n",
       "      <td>NaN</td>\n",
       "      <td>100001</td>\n",
       "      <td>MMIC</td>\n",
       "      <td>1</td>\n",
       "      <td>6.0</td>\n",
       "      <td>2117-09-17T16:45:00.000Z</td>\n",
       "      <td>NaN</td>\n",
       "      <td>NaN</td>\n",
       "      <td>464709</td>\n",
       "      <td>25063</td>\n",
       "      <td>E1040</td>\n",
       "      <td>E1065,E1040</td>\n",
       "      <td>Type 1 diabetes mellitus with diabetic neuropa...</td>\n",
       "      <td>NaN</td>\n",
       "      <td>DIABETIC KETOACIDOSIS</td>\n",
       "      <td>0</td>\n",
       "      <td>NaN</td>\n",
       "      <td>Digestive</td>\n",
       "      <td>2117-09-17</td>\n",
       "      <td>16:45:00.000Z</td>\n",
       "    </tr>\n",
       "  </tbody>\n",
       "</table>\n",
       "</div>"
      ]
     },
     "metadata": {},
     "output_type": "display_data"
    }
   ],
   "source": [
    "diag_df = diag_df.sort_values(by='RECORDED_DTM')\n",
    "diag_df = diag_df.sort_values(by='PATIENT_ENCOUNTER_ID', kind='mergesort') #stable\n",
    "#diag_df.head()"
   ]
  },
  {
   "cell_type": "code",
   "execution_count": 4,
   "metadata": {},
   "outputs": [
    {
     "data": {
      "text/html": [
       "<style scoped>\n",
       "  .ansiout {\n",
       "    display: block;\n",
       "    unicode-bidi: embed;\n",
       "    white-space: pre-wrap;\n",
       "    word-wrap: break-word;\n",
       "    word-break: break-all;\n",
       "    font-family: \"Source Code Pro\", \"Menlo\", monospace;;\n",
       "    font-size: 13px;\n",
       "    color: #555;\n",
       "    margin-left: 4px;\n",
       "    line-height: 19px;\n",
       "  }\n",
       "</style>\n",
       "<div class=\"ansiout\"></div>"
      ]
     },
     "metadata": {},
     "output_type": "display_data"
    }
   ],
   "source": [
    "#len(diag_df)"
   ]
  },
  {
   "cell_type": "code",
   "execution_count": 5,
   "metadata": {},
   "outputs": [
    {
     "data": {
      "text/html": [
       "<div>\n",
       "<style scoped>\n",
       "    .dataframe tbody tr th:only-of-type {\n",
       "        vertical-align: middle;\n",
       "    }\n",
       "\n",
       "    .dataframe tbody tr th {\n",
       "        vertical-align: top;\n",
       "    }\n",
       "\n",
       "    .dataframe thead th {\n",
       "        text-align: right;\n",
       "    }\n",
       "</style>\n",
       "<table border=\"1\" class=\"dataframe\">\n",
       "  <thead>\n",
       "    <tr style=\"text-align: right;\">\n",
       "      <th></th>\n",
       "      <th>index</th>\n",
       "      <th>PATIENT_ID</th>\n",
       "      <th>PATIENT_ENCOUNTER_ID</th>\n",
       "      <th>ADMIT_TIME</th>\n",
       "      <th>ADMIT_ATTR</th>\n",
       "      <th>DISCHARGE_TIME</th>\n",
       "      <th>DISCHARGE_ATTR</th>\n",
       "      <th>PATIENT_AGE</th>\n",
       "      <th>LOS</th>\n",
       "    </tr>\n",
       "  </thead>\n",
       "  <tbody>\n",
       "    <tr>\n",
       "      <th>0</th>\n",
       "      <td>301894</td>\n",
       "      <td>58526</td>\n",
       "      <td>100001</td>\n",
       "      <td>2117-09-11T11:46:00.000Z</td>\n",
       "      <td>EMERGENCY</td>\n",
       "      <td>2117-09-17T16:45:00.000Z</td>\n",
       "      <td>HOME</td>\n",
       "      <td>35.498630</td>\n",
       "      <td>6.207639</td>\n",
       "    </tr>\n",
       "    <tr>\n",
       "      <th>1</th>\n",
       "      <td>47103</td>\n",
       "      <td>54610</td>\n",
       "      <td>100003</td>\n",
       "      <td>2150-04-17T15:34:00.000Z</td>\n",
       "      <td>EMERGENCY</td>\n",
       "      <td>2150-04-21T17:30:00.000Z</td>\n",
       "      <td>HOME</td>\n",
       "      <td>59.950685</td>\n",
       "      <td>4.080556</td>\n",
       "    </tr>\n",
       "    <tr>\n",
       "      <th>2</th>\n",
       "      <td>135626</td>\n",
       "      <td>9895</td>\n",
       "      <td>100006</td>\n",
       "      <td>2108-04-06T15:49:00.000Z</td>\n",
       "      <td>EMERGENCY</td>\n",
       "      <td>2108-04-18T17:18:00.000Z</td>\n",
       "      <td>HOME</td>\n",
       "      <td>48.947945</td>\n",
       "      <td>12.061806</td>\n",
       "    </tr>\n",
       "    <tr>\n",
       "      <th>3</th>\n",
       "      <td>165528</td>\n",
       "      <td>23018</td>\n",
       "      <td>100007</td>\n",
       "      <td>2145-03-31T05:33:00.000Z</td>\n",
       "      <td>EMERGENCY</td>\n",
       "      <td>2145-04-07T12:40:00.000Z</td>\n",
       "      <td>HOME</td>\n",
       "      <td>73.871233</td>\n",
       "      <td>7.296528</td>\n",
       "    </tr>\n",
       "    <tr>\n",
       "      <th>4</th>\n",
       "      <td>308254</td>\n",
       "      <td>533</td>\n",
       "      <td>100009</td>\n",
       "      <td>2162-05-16T15:56:00.000Z</td>\n",
       "      <td>EMERGENCY</td>\n",
       "      <td>2162-05-21T13:37:00.000Z</td>\n",
       "      <td>HOME HEALTH CARE</td>\n",
       "      <td>60.835616</td>\n",
       "      <td>4.903472</td>\n",
       "    </tr>\n",
       "  </tbody>\n",
       "</table>\n",
       "</div>"
      ]
     },
     "metadata": {},
     "output_type": "display_data"
    }
   ],
   "source": [
    "#find the midpoint of each encounter\n",
    "#import pandas as pd\n",
    "encounter_df = pd.read_csv('/dbfs/FileStore/tables/encounters.csv').drop(columns=['Unnamed: 0'])\n",
    "encounter_df = encounter_df.loc[encounter_df.LOS > 0]\n",
    "encounter_df.head()"
   ]
  },
  {
   "cell_type": "code",
   "execution_count": 6,
   "metadata": {},
   "outputs": [
    {
     "data": {
      "text/html": [
       "<style scoped>\n",
       "  .ansiout {\n",
       "    display: block;\n",
       "    unicode-bidi: embed;\n",
       "    white-space: pre-wrap;\n",
       "    word-wrap: break-word;\n",
       "    word-break: break-all;\n",
       "    font-family: \"Source Code Pro\", \"Menlo\", monospace;;\n",
       "    font-size: 13px;\n",
       "    color: #555;\n",
       "    margin-left: 4px;\n",
       "    line-height: 19px;\n",
       "  }\n",
       "</style>\n",
       "<div class=\"ansiout\"></div>"
      ]
     },
     "metadata": {},
     "output_type": "display_data"
    }
   ],
   "source": [
    "# def to_datetime(pg_time_str):\n",
    "#     return datetime.strptime(pg_time_str, \"%Y-%m-%dT%H:%M:%S.%fZ\")"
   ]
  },
  {
   "cell_type": "code",
   "execution_count": 7,
   "metadata": {},
   "outputs": [],
   "source": [
    "#for each encounter, get the midpoint datetime\n",
    "encounter_df['MIDPOINT_TIME'] = encounter_df.apply(lambda row: to_datetime(row.ADMIT_TIME) + timedelta(days=row.LOS / 2), axis=1)\n",
    "encounter_df.head()"
   ]
  },
  {
   "cell_type": "code",
   "execution_count": 8,
   "metadata": {},
   "outputs": [
    {
     "data": {
      "text/html": [
       "<style scoped>\n",
       "  .ansiout {\n",
       "    display: block;\n",
       "    unicode-bidi: embed;\n",
       "    white-space: pre-wrap;\n",
       "    word-wrap: break-word;\n",
       "    word-break: break-all;\n",
       "    font-family: \"Source Code Pro\", \"Menlo\", monospace;;\n",
       "    font-size: 13px;\n",
       "    color: #555;\n",
       "    margin-left: 4px;\n",
       "    line-height: 19px;\n",
       "  }\n",
       "</style>\n",
       "<div class=\"ansiout\"></div>"
      ]
     },
     "metadata": {},
     "output_type": "display_data"
    }
   ],
   "source": [
    "#then iterate through diagnoses, adding each to a per-encounter list if it occurs before the midpoint\n",
    "diagnosis_df = pd.DataFrame(diagnoses)\n",
    "#diagnosis_df.head()"
   ]
  },
  {
   "cell_type": "code",
   "execution_count": 9,
   "metadata": {},
   "outputs": [
    {
     "data": {
      "text/html": [
       "<style scoped>\n",
       "  .ansiout {\n",
       "    display: block;\n",
       "    unicode-bidi: embed;\n",
       "    white-space: pre-wrap;\n",
       "    word-wrap: break-word;\n",
       "    word-break: break-all;\n",
       "    font-family: \"Source Code Pro\", \"Menlo\", monospace;;\n",
       "    font-size: 13px;\n",
       "    color: #555;\n",
       "    margin-left: 4px;\n",
       "    line-height: 19px;\n",
       "  }\n",
       "</style>\n",
       "<div class=\"ansiout\"></div>"
      ]
     },
     "metadata": {},
     "output_type": "display_data"
    }
   ],
   "source": [
    "p_diagnosis_df = diagnosis_df.loc[diagnosis_df.PRINCIPAL_PROBLEM == 1]\n",
    "p_diagnosis_df = p_diagnosis_df.filter(['PATIENT_ENCOUNTER_ID', 'SUPERCATEGORY'])\n",
    "p_d_dummies = pd.get_dummies(p_diagnosis_df.SUPERCATEGORY)\n",
    "#print(p_d_dummies.columns)\n",
    "p_d_dummies = p_d_dummies.join(p_diagnosis_df['PATIENT_ENCOUNTER_ID'])\n",
    "#print(encounter_df.columns)\n",
    "#encounter_df = pd.get_dummies(encounter_df.ADMIT_ATTR)\n",
    "d_dummies = pd.get_dummies(encounter_df.ADMIT_ATTR)\n",
    "#print(p_diagnosis_df)\n",
    "peid = encounter_df['PATIENT_ENCOUNTER_ID']\n",
    "#print(peid)\n",
    "#d_dummies = d_dummies.join(peid)\n",
    "encounter_df = pd.concat([encounter_df, d_dummies], axis=1, sort=False)\n",
    "p_d_dummies['index'] = encounter_df['index']\n",
    "\n",
    "\n",
    "encounter_cols = encounter_df[['PATIENT_AGE', 'PATIENT_ENCOUNTER_ID', 'LOS', 'ELECTIVE', 'EMERGENCY', 'NEWBORN', 'URGENT']]\n"
   ]
  },
  {
   "cell_type": "code",
   "execution_count": 10,
   "metadata": {},
   "outputs": [
    {
     "data": {
      "text/html": [
       "<style scoped>\n",
       "  .ansiout {\n",
       "    display: block;\n",
       "    unicode-bidi: embed;\n",
       "    white-space: pre-wrap;\n",
       "    word-wrap: break-word;\n",
       "    word-break: break-all;\n",
       "    font-family: \"Source Code Pro\", \"Menlo\", monospace;;\n",
       "    font-size: 13px;\n",
       "    color: #555;\n",
       "    margin-left: 4px;\n",
       "    line-height: 19px;\n",
       "  }\n",
       "</style>\n",
       "<div class=\"ansiout\"></div>"
      ]
     },
     "metadata": {},
     "output_type": "display_data"
    }
   ],
   "source": [
    "#print(encounter_df.columns)"
   ]
  },
  {
   "cell_type": "code",
   "execution_count": 11,
   "metadata": {},
   "outputs": [
    {
     "data": {
      "text/html": [
       "<style scoped>\n",
       "  .ansiout {\n",
       "    display: block;\n",
       "    unicode-bidi: embed;\n",
       "    white-space: pre-wrap;\n",
       "    word-wrap: break-word;\n",
       "    word-break: break-all;\n",
       "    font-family: \"Source Code Pro\", \"Menlo\", monospace;;\n",
       "    font-size: 13px;\n",
       "    color: #555;\n",
       "    margin-left: 4px;\n",
       "    line-height: 19px;\n",
       "  }\n",
       "</style>\n",
       "<div class=\"ansiout\"></div>"
      ]
     },
     "metadata": {},
     "output_type": "display_data"
    }
   ],
   "source": [
    "encounter_dummies_los = p_d_dummies.merge(encounter_cols, on='PATIENT_ENCOUNTER_ID')\n",
    "#encounter_dummies_los.head()"
   ]
  },
  {
   "cell_type": "code",
   "execution_count": 12,
   "metadata": {},
   "outputs": [
    {
     "data": {
      "text/html": [
       "<style scoped>\n",
       "  .ansiout {\n",
       "    display: block;\n",
       "    unicode-bidi: embed;\n",
       "    white-space: pre-wrap;\n",
       "    word-wrap: break-word;\n",
       "    word-break: break-all;\n",
       "    font-family: \"Source Code Pro\", \"Menlo\", monospace;;\n",
       "    font-size: 13px;\n",
       "    color: #555;\n",
       "    margin-left: 4px;\n",
       "    line-height: 19px;\n",
       "  }\n",
       "</style>\n",
       "<div class=\"ansiout\"></div>"
      ]
     },
     "metadata": {},
     "output_type": "display_data"
    }
   ],
   "source": [
    "#may want to try normalizing LOS and age for some models\n",
    "ml_df = encounter_dummies_los.drop(columns=['PATIENT_ENCOUNTER_ID'])\n",
    "X_df = ml_df.drop(columns=['LOS'])\n",
    "Y_df = ml_df.filter(['LOS'])"
   ]
  },
  {
   "cell_type": "code",
   "execution_count": 13,
   "metadata": {},
   "outputs": [
    {
     "data": {
      "text/html": [
       "<style scoped>\n",
       "  .ansiout {\n",
       "    display: block;\n",
       "    unicode-bidi: embed;\n",
       "    white-space: pre-wrap;\n",
       "    word-wrap: break-word;\n",
       "    word-break: break-all;\n",
       "    font-family: \"Source Code Pro\", \"Menlo\", monospace;;\n",
       "    font-size: 13px;\n",
       "    color: #555;\n",
       "    margin-left: 4px;\n",
       "    line-height: 19px;\n",
       "  }\n",
       "</style>\n",
       "<div class=\"ansiout\"></div>"
      ]
     },
     "metadata": {},
     "output_type": "display_data"
    }
   ],
   "source": [
    "X = X_df.to_numpy()\n",
    "Y = Y_df.to_numpy()\n",
    "X_train, X_test, Y_train, Y_test = train_test_split(X, Y, random_state=11)\n"
   ]
  },
  {
   "cell_type": "code",
   "execution_count": 14,
   "metadata": {},
   "outputs": [
    {
     "data": {
      "text/html": [
       "<style scoped>\n",
       "  .ansiout {\n",
       "    display: block;\n",
       "    unicode-bidi: embed;\n",
       "    white-space: pre-wrap;\n",
       "    word-wrap: break-word;\n",
       "    word-break: break-all;\n",
       "    font-family: \"Source Code Pro\", \"Menlo\", monospace;;\n",
       "    font-size: 13px;\n",
       "    color: #555;\n",
       "    margin-left: 4px;\n",
       "    line-height: 19px;\n",
       "  }\n",
       "</style>\n",
       "<div class=\"ansiout\"></div>"
      ]
     },
     "metadata": {},
     "output_type": "display_data"
    }
   ],
   "source": [
    "orX=X\n",
    "orY=Y"
   ]
  },
  {
   "cell_type": "code",
   "execution_count": 15,
   "metadata": {},
   "outputs": [
    {
     "data": {
      "text/html": [
       "<style scoped>\n",
       "  .ansiout {\n",
       "    display: block;\n",
       "    unicode-bidi: embed;\n",
       "    white-space: pre-wrap;\n",
       "    word-wrap: break-word;\n",
       "    word-break: break-all;\n",
       "    font-family: \"Source Code Pro\", \"Menlo\", monospace;;\n",
       "    font-size: 13px;\n",
       "    color: #555;\n",
       "    margin-left: 4px;\n",
       "    line-height: 19px;\n",
       "  }\n",
       "</style>\n",
       "<div class=\"ansiout\">(58840, 28)\n",
       "(58840, 1)\n",
       "</div>"
      ]
     },
     "metadata": {},
     "output_type": "display_data"
    }
   ],
   "source": [
    "print(X.shape)\n",
    "print(Y.shape)"
   ]
  },
  {
   "cell_type": "code",
   "execution_count": 16,
   "metadata": {},
   "outputs": [
    {
     "data": {
      "text/html": [
       "<style scoped>\n",
       "  .ansiout {\n",
       "    display: block;\n",
       "    unicode-bidi: embed;\n",
       "    white-space: pre-wrap;\n",
       "    word-wrap: break-word;\n",
       "    word-break: break-all;\n",
       "    font-family: \"Source Code Pro\", \"Menlo\", monospace;;\n",
       "    font-size: 13px;\n",
       "    color: #555;\n",
       "    margin-left: 4px;\n",
       "    line-height: 19px;\n",
       "  }\n",
       "</style>\n",
       "<div class=\"ansiout\"></div>"
      ]
     },
     "metadata": {},
     "output_type": "display_data"
    }
   ],
   "source": [
    "Y = np.ravel(Y,order='C')\n",
    "#X = np.ravel(X,order='C')"
   ]
  },
  {
   "cell_type": "code",
   "execution_count": 17,
   "metadata": {},
   "outputs": [
    {
     "data": {
      "text/html": [
       "<style scoped>\n",
       "  .ansiout {\n",
       "    display: block;\n",
       "    unicode-bidi: embed;\n",
       "    white-space: pre-wrap;\n",
       "    word-wrap: break-word;\n",
       "    word-break: break-all;\n",
       "    font-family: \"Source Code Pro\", \"Menlo\", monospace;;\n",
       "    font-size: 13px;\n",
       "    color: #555;\n",
       "    margin-left: 4px;\n",
       "    line-height: 19px;\n",
       "  }\n",
       "</style>\n",
       "<div class=\"ansiout\">(58840, 28)\n",
       "(58840,)\n",
       "</div>"
      ]
     },
     "metadata": {},
     "output_type": "display_data"
    }
   ],
   "source": [
    "print(X.shape)\n",
    "print(Y.shape)"
   ]
  },
  {
   "cell_type": "code",
   "execution_count": 18,
   "metadata": {},
   "outputs": [
    {
     "data": {
      "text/html": [
       "<style scoped>\n",
       "  .ansiout {\n",
       "    display: block;\n",
       "    unicode-bidi: embed;\n",
       "    white-space: pre-wrap;\n",
       "    word-wrap: break-word;\n",
       "    word-break: break-all;\n",
       "    font-family: \"Source Code Pro\", \"Menlo\", monospace;;\n",
       "    font-size: 13px;\n",
       "    color: #555;\n",
       "    margin-left: 4px;\n",
       "    line-height: 19px;\n",
       "  }\n",
       "</style>\n",
       "<div class=\"ansiout\"></div>"
      ]
     },
     "metadata": {},
     "output_type": "display_data"
    }
   ],
   "source": [
    "#print('X',len(X_train)) \n",
    "#print('Y',len(Y_train))"
   ]
  },
  {
   "cell_type": "code",
   "execution_count": 19,
   "metadata": {},
   "outputs": [
    {
     "data": {
      "text/html": [
       "<style scoped>\n",
       "  .ansiout {\n",
       "    display: block;\n",
       "    unicode-bidi: embed;\n",
       "    white-space: pre-wrap;\n",
       "    word-wrap: break-word;\n",
       "    word-break: break-all;\n",
       "    font-family: \"Source Code Pro\", \"Menlo\", monospace;;\n",
       "    font-size: 13px;\n",
       "    color: #555;\n",
       "    margin-left: 4px;\n",
       "    line-height: 19px;\n",
       "  }\n",
       "</style>\n",
       "<div class=\"ansiout\"></div>"
      ]
     },
     "metadata": {},
     "output_type": "display_data"
    }
   ],
   "source": [
    "xgb = XGBRegressor()\n",
    "xgb.fit(X_train, Y_train)\n",
    "xgb_preds = xgb.predict(X_test)"
   ]
  },
  {
   "cell_type": "code",
   "execution_count": 20,
   "metadata": {},
   "outputs": [
    {
     "data": {
      "text/html": [
       "<style scoped>\n",
       "  .ansiout {\n",
       "    display: block;\n",
       "    unicode-bidi: embed;\n",
       "    white-space: pre-wrap;\n",
       "    word-wrap: break-word;\n",
       "    word-break: break-all;\n",
       "    font-family: \"Source Code Pro\", \"Menlo\", monospace;;\n",
       "    font-size: 13px;\n",
       "    color: #555;\n",
       "    margin-left: 4px;\n",
       "    line-height: 19px;\n",
       "  }\n",
       "</style>\n",
       "<div class=\"ansiout\"></div>"
      ]
     },
     "metadata": {},
     "output_type": "display_data"
    }
   ],
   "source": [
    "def rmse(predictions, targets):\n",
    "    rmse0 = ((predictions - targets) ** 2).mean()\n",
    "    rmse1=np.sqrt(rmse0)\n",
    "    return rmse1"
   ]
  },
  {
   "cell_type": "code",
   "execution_count": 21,
   "metadata": {},
   "outputs": [
    {
     "data": {
      "text/html": [
       "<style scoped>\n",
       "  .ansiout {\n",
       "    display: block;\n",
       "    unicode-bidi: embed;\n",
       "    white-space: pre-wrap;\n",
       "    word-wrap: break-word;\n",
       "    word-break: break-all;\n",
       "    font-family: \"Source Code Pro\", \"Menlo\", monospace;;\n",
       "    font-size: 13px;\n",
       "    color: #555;\n",
       "    margin-left: 4px;\n",
       "    line-height: 19px;\n",
       "  }\n",
       "</style>\n",
       "<div class=\"ansiout\">Out[63]: 12.701250472961606</div>"
      ]
     },
     "metadata": {},
     "output_type": "display_data"
    }
   ],
   "source": [
    "rmse(xgb_preds, Y_test)"
   ]
  },
  {
   "cell_type": "code",
   "execution_count": 22,
   "metadata": {},
   "outputs": [],
   "source": [
    "#Take a look at the xgb feature importances\n",
    "xgb_fi = xgb.feature_importances_\n",
    "#-->> xgb_fi = xgb.get_booster().get_score(importance_type= 'gain')\n",
    "\n",
    "cols = ml_df.drop(columns=['LOS']).columns\n",
    "sns.set(rc={'figure.figsize':(11.7,8.27)})\n",
    "fig = sns.barplot(x=xgb_fi, y=cols)\n",
    "display(fig.figure)"
   ]
  },
  {
   "cell_type": "code",
   "execution_count": 23,
   "metadata": {},
   "outputs": [
    {
     "data": {
      "text/html": [
       "<style scoped>\n",
       "  .ansiout {\n",
       "    display: block;\n",
       "    unicode-bidi: embed;\n",
       "    white-space: pre-wrap;\n",
       "    word-wrap: break-word;\n",
       "    word-break: break-all;\n",
       "    font-family: \"Source Code Pro\", \"Menlo\", monospace;;\n",
       "    font-size: 13px;\n",
       "    color: #555;\n",
       "    margin-left: 4px;\n",
       "    line-height: 19px;\n",
       "  }\n",
       "</style>\n",
       "<div class=\"ansiout\"></div>"
      ]
     },
     "metadata": {},
     "output_type": "display_data"
    }
   ],
   "source": [
    "#np.any(np.isnan(X_train))"
   ]
  },
  {
   "cell_type": "code",
   "execution_count": 24,
   "metadata": {},
   "outputs": [
    {
     "data": {
      "text/html": [
       "<style scoped>\n",
       "  .ansiout {\n",
       "    display: block;\n",
       "    unicode-bidi: embed;\n",
       "    white-space: pre-wrap;\n",
       "    word-wrap: break-word;\n",
       "    word-break: break-all;\n",
       "    font-family: \"Source Code Pro\", \"Menlo\", monospace;;\n",
       "    font-size: 13px;\n",
       "    color: #555;\n",
       "    margin-left: 4px;\n",
       "    line-height: 19px;\n",
       "  }\n",
       "</style>\n",
       "<div class=\"ansiout\"></div>"
      ]
     },
     "metadata": {},
     "output_type": "display_data"
    }
   ],
   "source": [
    "X_train[np.isnan(X_train)] = 0\n",
    "X_test[np.isnan(X_test)] = 0"
   ]
  },
  {
   "cell_type": "code",
   "execution_count": 25,
   "metadata": {},
   "outputs": [
    {
     "data": {
      "text/html": [
       "<style scoped>\n",
       "  .ansiout {\n",
       "    display: block;\n",
       "    unicode-bidi: embed;\n",
       "    white-space: pre-wrap;\n",
       "    word-wrap: break-word;\n",
       "    word-break: break-all;\n",
       "    font-family: \"Source Code Pro\", \"Menlo\", monospace;;\n",
       "    font-size: 13px;\n",
       "    color: #555;\n",
       "    margin-left: 4px;\n",
       "    line-height: 19px;\n",
       "  }\n",
       "</style>\n",
       "<div class=\"ansiout\">Out[67]: 13.425987210687257</div>"
      ]
     },
     "metadata": {},
     "output_type": "display_data"
    }
   ],
   "source": [
    "knr = KNeighborsRegressor()\n",
    "knr.fit(X_train, Y_train)\n",
    "knr_preds = knr.predict(X_test)\n",
    "rmse(knr_preds, Y_test)"
   ]
  },
  {
   "cell_type": "code",
   "execution_count": 26,
   "metadata": {},
   "outputs": [
    {
     "data": {
      "text/html": [
       "<style scoped>\n",
       "  .ansiout {\n",
       "    display: block;\n",
       "    unicode-bidi: embed;\n",
       "    white-space: pre-wrap;\n",
       "    word-wrap: break-word;\n",
       "    word-break: break-all;\n",
       "    font-family: \"Source Code Pro\", \"Menlo\", monospace;;\n",
       "    font-size: 13px;\n",
       "    color: #555;\n",
       "    margin-left: 4px;\n",
       "    line-height: 19px;\n",
       "  }\n",
       "</style>\n",
       "<div class=\"ansiout\">Out[68]: 12.420476050197111</div>"
      ]
     },
     "metadata": {},
     "output_type": "display_data"
    }
   ],
   "source": [
    "avg = Y_train.mean()\n",
    "rmse([avg] * Y_test.shape[0], Y_test)"
   ]
  }
 ],
 "metadata": {
  "kernelspec": {
   "display_name": "Python 3",
   "language": "python",
   "name": "python3"
  },
  "language_info": {
   "codemirror_mode": {
    "name": "ipython",
    "version": 3
   },
   "file_extension": ".py",
   "mimetype": "text/x-python",
   "name": "python",
   "nbconvert_exporter": "python",
   "pygments_lexer": "ipython3",
   "version": "3.7.7"
  },
  "name": "LOSPredict",
  "notebookId": 3307783804373623
 },
 "nbformat": 4,
 "nbformat_minor": 1
}
