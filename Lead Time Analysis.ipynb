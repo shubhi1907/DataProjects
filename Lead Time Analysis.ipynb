{
 "cells": [
  {
   "cell_type": "code",
   "execution_count": 133,
   "metadata": {},
   "outputs": [],
   "source": [
    "import numpy as np\n",
    "import pandas as pd \n",
    "import os, time\n",
    "from datetime import datetime, timedelta"
   ]
  },
  {
   "cell_type": "code",
   "execution_count": 134,
   "metadata": {},
   "outputs": [],
   "source": [
    "#load in Coronavirus by county data\n",
    "df = pd.read_csv('https://raw.githubusercontent.com/nytimes/covid-19-data/master/us-counties.csv')\n",
    "df = df[df['state'] == 'Massachusetts']"
   ]
  },
  {
   "cell_type": "code",
   "execution_count": 135,
   "metadata": {},
   "outputs": [],
   "source": [
    "df = df[df['cases']>0]\n",
    "df = df.groupby(['fips', 'date']).sum().reset_index()\n",
    "df = df.drop('deaths', axis =1)"
   ]
  },
  {
   "cell_type": "code",
   "execution_count": 136,
   "metadata": {},
   "outputs": [],
   "source": [
    "#create separate dataframes for each county\n",
    "fips = [25001, 25003, 25005, 25007, 25009, 25011, 25013, 25015, 25017, 25019, 25021, 25023, 25025, 25027]\n",
    "\n",
    "dfs = {}\n",
    "for code in fips:\n",
    "    dfs['df_' + str(code)] = df[df['fips'] == code]    "
   ]
  },
  {
   "cell_type": "code",
   "execution_count": 137,
   "metadata": {},
   "outputs": [],
   "source": [
    "#create new cases column, set NaN to # of cases and fill 0s back to 2020-02-21\n",
    "for name, dfe in dfs.items():\n",
    "    dfe.loc[:,'new cases'] = dfe.loc[:,'cases'].diff(1)\n",
    "    dfe.loc[:,'new cases'] = dfe.loc[:,'new cases'].fillna(dfe.cases)\n",
    "    "
   ]
  },
  {
   "cell_type": "code",
   "execution_count": 138,
   "metadata": {},
   "outputs": [],
   "source": [
    "#set direction of corona flow   key --> listed counties\n",
    "#ex. county 25001 will lead 25007, 25019\n",
    "neighbors = {'df_25001': ['df_25007', 'df_25019'], 'df_25003': ['df_25011', 'df_25013', 'df_25015'], \n",
    "             'df_25005': [], 'df_25007': [], 'df_25009': [], 'df_25011': [], 'df_25013': ['df_25015'], 'df_25015': [], \n",
    "             'df_25017': ['df_25009', 'df_25021', 'df_25027'], 'df_25019': [], 'df_25021': ['df_25005', 'df_25023'], \n",
    "             'df_25023': ['df_25001'], 'df_25025': ['df_25009', 'df_25017', 'df_25021'], 'df_25027': ['df_25011', 'df_25013', 'df_25015']}"
   ]
  },
  {
   "cell_type": "code",
   "execution_count": 139,
   "metadata": {},
   "outputs": [],
   "source": [
    "#get slope between two lists\n",
    "def get_slope(X, Y):\n",
    "\n",
    "    xbar = sum(X)/len(X)\n",
    "    ybar = sum(Y)/len(Y)\n",
    "    n = len(X) # or len(Y)\n",
    "\n",
    "    numer = sum([xi*yi for xi,yi in zip(X, Y)]) - n * xbar * ybar\n",
    "    denum = sum([xi**2 for xi in X]) - n * xbar**2\n",
    "\n",
    "    b = numer / denum\n",
    "\n",
    "    return b"
   ]
  },
  {
   "cell_type": "code",
   "execution_count": 140,
   "metadata": {},
   "outputs": [],
   "source": [
    "#\"shifts\" data\n",
    "def compare(df1, df2, leadtime):\n",
    "\n",
    "    #sets initial date for df1\n",
    "    datei = str(datetime.strptime((df2['date'].iloc[0]), '%Y-%m-%d') - timedelta(days=leadtime +1))\n",
    "    \n",
    "    #fills in data for before first case as 0\n",
    "    while (str(df1['date'].iloc[0]) > '2020-02-21'):\n",
    "        info = {'fips' : int(df1['fips'].iloc[0]), 'date' : ((datetime.strptime(str(df1['date'].iloc[0])[0:10], '%Y-%m-%d') - timedelta(days=1))), 'cases' : 0 , 'new cases' : 0}\n",
    "        df1 = df1.append(info, ignore_index = True)\n",
    "        df1 = df1.groupby(['date']).sum().reset_index()\n",
    "    \n",
    "    df1 = df1[df1['date'] >= datei]\n",
    "    \n",
    "    #sets end date for df1\n",
    "    df1 = df1.drop(df1.tail(leadtime).index)\n",
    "    \n",
    "    #sets X and Y to df values\n",
    "    X = df1.loc[:,'new cases']\n",
    "    Y = df2.loc[:,'new cases']\n",
    "    \n",
    "    return get_slope(X, Y)"
   ]
  },
  {
   "cell_type": "code",
   "execution_count": 141,
   "metadata": {},
   "outputs": [],
   "source": [
    "#changes leadtime and then selects slope closest to 1\n",
    "def best_match(df_name):\n",
    "    df1 = dfs[df_name]\n",
    "    neigh_best = {}\n",
    "    for neighbor in neighbors[df_name]:\n",
    "        lst = []\n",
    "        for i in range(10):\n",
    "            lst.append(compare(dfs[df_name], dfs[neighbor], i))\n",
    "        bestval = lst.index(min(lst, key=lambda x:abs(x-1)))\n",
    "#uncomment this line to see the list of the slopes  \n",
    "    #  print(neighbor, lst, bestval)\n",
    "        neigh_best[neighbor] = bestval\n",
    "    return(neigh_best)"
   ]
  },
  {
   "cell_type": "code",
   "execution_count": 142,
   "metadata": {},
   "outputs": [
    {
     "data": {
      "text/plain": [
       "{'df_25007': 0, 'df_25019': 0}"
      ]
     },
     "execution_count": 142,
     "metadata": {},
     "output_type": "execute_result"
    }
   ],
   "source": [
    "#if you uncomment the print(neighbor, lst, bestval) line above you can see here that even the best slope is really bad...\n",
    "best_match('df_25001')"
   ]
  },
  {
   "cell_type": "code",
   "execution_count": 143,
   "metadata": {},
   "outputs": [
    {
     "name": "stdout",
     "output_type": "stream",
     "text": [
      "{'df_25001': {'df_25007': 0, 'df_25019': 0}, 'df_25003': {'df_25011': 2, 'df_25013': 0, 'df_25015': 7}, 'df_25005': {}, 'df_25007': {}, 'df_25009': {}, 'df_25011': {}, 'df_25013': {'df_25015': 8}, 'df_25015': {}, 'df_25017': {'df_25009': 6, 'df_25021': 6, 'df_25027': 6}, 'df_25019': {}, 'df_25021': {'df_25005': 0, 'df_25023': 0}, 'df_25023': {'df_25001': 6}, 'df_25025': {'df_25009': 7, 'df_25017': 1, 'df_25021': 7}, 'df_25027': {'df_25011': 5, 'df_25013': 5, 'df_25015': 5}}\n"
     ]
    }
   ],
   "source": [
    "lead_time = {}\n",
    "\n",
    "for name, dfe in dfs.items():\n",
    "    lead_time[name] = best_match(name)\n",
    "    \n",
    "print(lead_time)"
   ]
  },
  {
   "cell_type": "code",
   "execution_count": null,
   "metadata": {},
   "outputs": [],
   "source": []
  },
  {
   "cell_type": "code",
   "execution_count": null,
   "metadata": {},
   "outputs": [],
   "source": []
  }
 ],
 "metadata": {
  "kernelspec": {
   "display_name": "Python 3",
   "language": "python",
   "name": "python3"
  },
  "language_info": {
   "codemirror_mode": {
    "name": "ipython",
    "version": 3
   },
   "file_extension": ".py",
   "mimetype": "text/x-python",
   "name": "python",
   "nbconvert_exporter": "python",
   "pygments_lexer": "ipython3",
   "version": "3.7.4"
  }
 },
 "nbformat": 4,
 "nbformat_minor": 2
}
